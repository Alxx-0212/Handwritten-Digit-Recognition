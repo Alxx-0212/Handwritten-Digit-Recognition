{
  "cells": [
    {
      "cell_type": "code",
      "execution_count": 40,
      "metadata": {
        "id": "dy4ivNSinzLy"
      },
      "outputs": [],
      "source": [
        "import tensorflow as tf\n",
        "from tensorflow import keras\n",
        "from tensorflow.keras import layers, optimizers, datasets\n",
        "from keras.models import Sequential\n",
        "import matplotlib.pyplot as plt\n",
        "import numpy as np"
      ]
    },
    {
      "cell_type": "code",
      "execution_count": 41,
      "metadata": {
        "colab": {
          "base_uri": "https://localhost:8080/"
        },
        "id": "GmBOyzJdog3E",
        "outputId": "2e0e9395-dbd8-43b8-f14e-585c9011e55b"
      },
      "outputs": [
        {
          "name": "stdout",
          "output_type": "stream",
          "text": [
            "(60000, 28, 28) (60000,)\n",
            "(10000, 28, 28) (10000,)\n"
          ]
        }
      ],
      "source": [
        "#datasets\n",
        "\n",
        "#data_splitting\n",
        "(x_train,y_train),(x_test,y_test)=datasets.mnist.load_data()\n",
        "\n",
        "print(x_train.shape,y_train.shape)\n",
        "print(x_test.shape,y_test.shape)"
      ]
    },
    {
      "cell_type": "code",
      "execution_count": 42,
      "metadata": {
        "id": "SQ-WOEK8i9Ym"
      },
      "outputs": [],
      "source": [
        "num_classes = 10\n",
        "y_train = keras.utils.to_categorical(y_train, num_classes)\n",
        "y_test = keras.utils.to_categorical(y_test, num_classes)"
      ]
    },
    {
      "cell_type": "code",
      "execution_count": 43,
      "metadata": {
        "colab": {
          "base_uri": "https://localhost:8080/",
          "height": 282
        },
        "id": "KG8vaclIZ8PP",
        "outputId": "d1ce601c-dcc2-46c0-e199-9688f684daca"
      },
      "outputs": [
        {
          "data": {
            "text/plain": [
              "<matplotlib.image.AxesImage at 0x7f41d58c7fd0>"
            ]
          },
          "execution_count": 43,
          "metadata": {},
          "output_type": "execute_result"
        },
        {
          "data": {
            "image/png": "[encoded data removed]",
            "text/plain": [
              "<Figure size 432x288 with 1 Axes>"
            ]
          },
          "metadata": {
            "needs_background": "light"
          },
          "output_type": "display_data"
        }
      ],
      "source": [
        "plt.imshow(x_train[0])"
      ]
    },
    {
      "cell_type": "code",
      "execution_count": 44,
      "metadata": {
        "colab": {
          "base_uri": "https://localhost:8080/"
        },
        "id": "_DvJqlJCk_-e",
        "outputId": "a05dd867-95e8-4616-e764-8a489008e736"
      },
      "outputs": [
        {
          "name": "stdout",
          "output_type": "stream",
          "text": [
            "[0. 0. 0. 0. 0. 1. 0. 0. 0. 0.]\n"
          ]
        }
      ],
      "source": [
        "print(y_train[0])"
      ]
    },
    {
      "cell_type": "code",
      "execution_count": 45,
      "metadata": {
        "id": "E1tYUDF7XjnS"
      },
      "outputs": [],
      "source": [
        "#normalisasi data\n",
        "x_train = x_train.astype('float32')/255\n",
        "x_test = x_test.astype('float32')/255"
      ]
    },
    {
      "cell_type": "markdown",
      "metadata": {
        "id": "4Dqf87vrc3by"
      },
      "source": [
        "# A. Mengupdate Jumlah Neuron"
      ]
    },
    {
      "cell_type": "code",
      "execution_count": 46,
      "metadata": {
        "id": "am7wBiU3qfip"
      },
      "outputs": [],
      "source": [
        "model = keras.Sequential()\n",
        "\n",
        "model.add(keras.layers.Conv2D(filters=32, kernel_size=5, strides=(1,1), padding='same', activation=tf.nn.relu, input_shape=(28,28,1)))\n",
        "model.add(keras.layers.MaxPool2D(pool_size=(2,2), strides=(2,2), padding='valid'))\n",
        "model.add(keras.layers.Conv2D(filters=64, kernel_size=3, strides=(1,1), padding='same', activation=tf.nn.relu))\n",
        "model.add(keras.layers.MaxPool2D(pool_size=(2,2), strides=(2,2), padding='valid'))\n",
        "\n",
        "model.add(keras.layers.Dropout(0.25))\n",
        "model.add(keras.layers.Flatten())\n",
        "\n",
        "model.add(keras.layers.Dense(units=256, activation=tf.nn.relu))\n",
        "model.add(keras.layers.Dense(units=128, activation=tf.nn.relu))\n",
        "model.add(keras.layers.Dense(units=64, activation=tf.nn.relu))\n",
        "model.add(keras.layers.Dropout(0.5))\n",
        "model.add(keras.layers.Dense(units=10, activation=tf.nn.softmax))"
      ]
    },
    {
      "cell_type": "code",
      "execution_count": 47,
      "metadata": {
        "colab": {
          "base_uri": "https://localhost:8080/"
        },
        "id": "F8xm9iceqvN6",
        "outputId": "d61a4e0e-2c75-4f03-f29d-9258b93df28e"
      },
      "outputs": [
        {
          "name": "stdout",
          "output_type": "stream",
          "text": [
            "Model: \"sequential_3\"\n",
            "_________________________________________________________________\n",
            " Layer (type)                Output Shape              Param #   \n",
            "=================================================================\n",
            " conv2d_6 (Conv2D)           (None, 28, 28, 32)        832       \n",
            "                                                                 \n",
            " max_pooling2d_6 (MaxPooling  (None, 14, 14, 32)       0         \n",
            " 2D)                                                             \n",
            "                                                                 \n",
            " conv2d_7 (Conv2D)           (None, 14, 14, 64)        18496     \n",
            "                                                                 \n",
            " max_pooling2d_7 (MaxPooling  (None, 7, 7, 64)         0         \n",
            " 2D)                                                             \n",
            "                                                                 \n",
            " dropout_6 (Dropout)         (None, 7, 7, 64)          0         \n",
            "                                                                 \n",
            " flatten_3 (Flatten)         (None, 3136)              0         \n",
            "                                                                 \n",
            " dense_12 (Dense)            (None, 256)               803072    \n",
            "                                                                 \n",
            " dense_13 (Dense)            (None, 128)               32896     \n",
            "                                                                 \n",
            " dense_14 (Dense)            (None, 64)                8256      \n",
            "                                                                 \n",
            " dropout_7 (Dropout)         (None, 64)                0         \n",
            "                                                                 \n",
            " dense_15 (Dense)            (None, 10)                650       \n",
            "                                                                 \n",
            "=================================================================\n",
            "Total params: 864,202\n",
            "Trainable params: 864,202\n",
            "Non-trainable params: 0\n",
            "_________________________________________________________________\n"
          ]
        }
      ],
      "source": [
        "model.summary()"
      ]
    },
    {
      "cell_type": "markdown",
      "metadata": {
        "id": "mtX8BR6EdoX3"
      },
      "source": [
        "# B. Tanpa Penggunaan Optimizer\n"
      ]
    },
    {
      "cell_type": "code",
      "execution_count": 48,
      "metadata": {
        "colab": {
          "base_uri": "https://localhost:8080/"
        },
        "id": "WnqzbQMuqsZI",
        "outputId": "375416ba-2cff-4496-f501-e07e610048bd"
      },
      "outputs": [
        {
          "name": "stdout",
          "output_type": "stream",
          "text": [
            "Epoch 1/5\n",
            "235/235 - 74s - loss: 0.3993 - accuracy: 0.8780 - 74s/epoch - 314ms/step\n",
            "Epoch 2/5\n",
            "235/235 - 71s - loss: 0.0944 - accuracy: 0.9751 - 71s/epoch - 304ms/step\n",
            "Epoch 3/5\n",
            "235/235 - 71s - loss: 0.0627 - accuracy: 0.9840 - 71s/epoch - 303ms/step\n",
            "Epoch 4/5\n",
            "235/235 - 71s - loss: 0.0493 - accuracy: 0.9875 - 71s/epoch - 303ms/step\n",
            "Epoch 5/5\n",
            "235/235 - 71s - loss: 0.0408 - accuracy: 0.9897 - 71s/epoch - 302ms/step\n"
          ]
        },
        {
          "data": {
            "text/plain": [
              "<keras.callbacks.History at 0x7f41d58b6490>"
            ]
          },
          "execution_count": 48,
          "metadata": {},
          "output_type": "execute_result"
        }
      ],
      "source": [
        "X_train=x_train.reshape(60000,28,28,1)\n",
        "X_test=x_test.reshape(10000,28,28,1)\n",
        "model.compile(loss=\"categorical_crossentropy\",metrics=['accuracy']) \n",
        "model.fit(x=X_train,y=y_train,epochs=5,batch_size=256,verbose=2)"
      ]
    },
    {
      "cell_type": "code",
      "execution_count": 49,
      "metadata": {
        "colab": {
          "base_uri": "https://localhost:8080/"
        },
        "id": "MePuoSVnfJPl",
        "outputId": "4c824c78-9b43-4a8f-bbcc-458edaace558"
      },
      "outputs": [
        {
          "name": "stdout",
          "output_type": "stream",
          "text": [
            "79/79 [==============================] - 4s 44ms/step - loss: 0.0279 - accuracy: 0.9916\n"
          ]
        }
      ],
      "source": [
        "tes_loss,tes_ac=model.evaluate(x_test,y_test,batch_size=128)"
      ]
    },
    {
      "cell_type": "markdown",
      "metadata": {
        "id": "eS2eTo-fjb1t"
      },
      "source": [
        "# C. Dengan Optimizer \n"
      ]
    },
    {
      "cell_type": "code",
      "execution_count": 50,
      "metadata": {
        "colab": {
          "base_uri": "https://localhost:8080/"
        },
        "id": "by1KUHmojO3L",
        "outputId": "c74673c9-5968-484d-cb4b-0aedef58e115"
      },
      "outputs": [
        {
          "name": "stdout",
          "output_type": "stream",
          "text": [
            "Epoch 1/5\n",
            "235/235 - 74s - loss: 0.0346 - accuracy: 0.9909 - 74s/epoch - 314ms/step\n",
            "Epoch 2/5\n",
            "235/235 - 72s - loss: 0.0271 - accuracy: 0.9929 - 72s/epoch - 308ms/step\n",
            "Epoch 3/5\n",
            "235/235 - 72s - loss: 0.0241 - accuracy: 0.9940 - 72s/epoch - 307ms/step\n",
            "Epoch 4/5\n",
            "235/235 - 73s - loss: 0.0204 - accuracy: 0.9944 - 73s/epoch - 309ms/step\n",
            "Epoch 5/5\n",
            "235/235 - 72s - loss: 0.0169 - accuracy: 0.9954 - 72s/epoch - 308ms/step\n"
          ]
        },
        {
          "data": {
            "text/plain": [
              "<keras.callbacks.History at 0x7f41d55a2790>"
            ]
          },
          "execution_count": 50,
          "metadata": {},
          "output_type": "execute_result"
        }
      ],
      "source": [
        "model_1=model\n",
        "model_1.compile(optimizer=\"Nadam\",loss=\"categorical_crossentropy\",metrics=['accuracy'])\n",
        "model_1.fit(x=X_train,y=y_train,epochs=5,batch_size=256,verbose=2)"
      ]
    },
    {
      "cell_type": "code",
      "execution_count": 51,
      "metadata": {
        "colab": {
          "base_uri": "https://localhost:8080/"
        },
        "id": "Lswh00wQfVAw",
        "outputId": "b5031b3f-b3e4-4bdd-88c8-70b1c9425951"
      },
      "outputs": [
        {
          "name": "stdout",
          "output_type": "stream",
          "text": [
            "79/79 [==============================] - 4s 45ms/step - loss: 0.0307 - accuracy: 0.9921\n"
          ]
        }
      ],
      "source": [
        "tes_loss,tes_ac=model_1.evaluate(x_test,y_test,batch_size=128)"
      ]
    },
    {
      "cell_type": "markdown",
      "metadata": {
        "id": "j0fMy2TrOUPV"
      },
      "source": [
        "# D. Dengan Ukuran Batch Size dan Epoch Berbeda"
      ]
    },
    {
      "cell_type": "code",
      "execution_count": 52,
      "metadata": {
        "colab": {
          "base_uri": "https://localhost:8080/"
        },
        "id": "-MYqCv-qOTpz",
        "outputId": "e938a689-6aa6-4025-a786-911ddfd53674"
      },
      "outputs": [
        {
          "name": "stdout",
          "output_type": "stream",
          "text": [
            "Epoch 1/10\n",
            "938/938 - 82s - loss: 0.0421 - accuracy: 0.9888 - 82s/epoch - 88ms/step\n",
            "Epoch 2/10\n",
            "938/938 - 83s - loss: 0.0307 - accuracy: 0.9924 - 83s/epoch - 88ms/step\n",
            "Epoch 3/10\n",
            "938/938 - 83s - loss: 0.0253 - accuracy: 0.9930 - 83s/epoch - 88ms/step\n",
            "Epoch 4/10\n",
            "938/938 - 83s - loss: 0.0218 - accuracy: 0.9938 - 83s/epoch - 88ms/step\n",
            "Epoch 5/10\n",
            "938/938 - 82s - loss: 0.0189 - accuracy: 0.9946 - 82s/epoch - 88ms/step\n",
            "Epoch 6/10\n",
            "938/938 - 83s - loss: 0.0184 - accuracy: 0.9949 - 83s/epoch - 88ms/step\n",
            "Epoch 7/10\n",
            "938/938 - 82s - loss: 0.0192 - accuracy: 0.9951 - 82s/epoch - 88ms/step\n",
            "Epoch 8/10\n",
            "938/938 - 82s - loss: 0.0149 - accuracy: 0.9954 - 82s/epoch - 88ms/step\n",
            "Epoch 9/10\n",
            "938/938 - 82s - loss: 0.0156 - accuracy: 0.9956 - 82s/epoch - 88ms/step\n",
            "Epoch 10/10\n",
            "938/938 - 82s - loss: 0.0129 - accuracy: 0.9963 - 82s/epoch - 88ms/step\n"
          ]
        },
        {
          "data": {
            "text/plain": [
              "<keras.callbacks.History at 0x7f41ce1d6d50>"
            ]
          },
          "execution_count": 52,
          "metadata": {},
          "output_type": "execute_result"
        }
      ],
      "source": [
        "model.fit(x=X_train,y=y_train,epochs=10,batch_size=64,verbose=2) # jumlah epoch yang lebih banyak dan batch_size yang lebih kecil"
      ]
    },
    {
      "cell_type": "code",
      "execution_count": 53,
      "metadata": {
        "colab": {
          "base_uri": "https://localhost:8080/"
        },
        "id": "r6k2Gz5Lebw3",
        "outputId": "dde0ae82-da51-4415-8987-8fbbc5ba4b23"
      },
      "outputs": [
        {
          "name": "stdout",
          "output_type": "stream",
          "text": [
            "157/157 [==============================] - 4s 25ms/step - loss: 0.0346 - accuracy: 0.9931\n"
          ]
        }
      ],
      "source": [
        "tes_loss,tes_ac=model.evaluate(x_test,y_test,batch_size=64)"
      ]
    },
    {
      "cell_type": "code",
      "execution_count": 54,
      "metadata": {
        "colab": {
          "base_uri": "https://localhost:8080/",
          "height": 282
        },
        "id": "wG7sslBExfeW",
        "outputId": "ef1a5d07-1fd9-4649-e605-c8c83bcf5e88"
      },
      "outputs": [
        {
          "data": {
            "text/plain": [
              "<matplotlib.image.AxesImage at 0x7f41cd5f6950>"
            ]
          },
          "execution_count": 54,
          "metadata": {},
          "output_type": "execute_result"
        },
        {
          "data": {
            "image/png": "[encoded data removed]",
            "text/plain": [
              "<Figure size 432x288 with 1 Axes>"
            ]
          },
          "metadata": {
            "needs_background": "light"
          },
          "output_type": "display_data"
        }
      ],
      "source": [
        "plt.imshow(x_train[9])"
      ]
    }
  ],
  "metadata": {
    "colab": {
      "collapsed_sections": [],
      "name": "AIH_Alexander Gosal_Lab2.ipynb",
      "provenance": []
    },
    "kernelspec": {
      "display_name": "Python 3.10.4 64-bit",
      "language": "python",
      "name": "python3"
    },
    "language_info": {
      "name": "python",
      "version": "3.10.4"
    },
    "vscode": {
      "interpreter": {
        "hash": "369f2c481f4da34e4445cda3fffd2e751bd1c4d706f27375911949ba6bb62e1c"
      }
    }
  },
  "nbformat": 4,
  "nbformat_minor": 0
}
